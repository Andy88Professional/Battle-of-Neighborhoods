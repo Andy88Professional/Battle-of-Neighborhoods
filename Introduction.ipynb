{
 "cells": [
  {
   "cell_type": "markdown",
   "metadata": {},
   "source": [
    "# Introduction"
   ]
  },
  {
   "cell_type": "markdown",
   "metadata": {},
   "source": [
    "As a result of society development, people often move from place to place for better job opportunites, sometimes even migrate overseas. In order to have a better and faster settle down in a new place, it is very desirable to move to a similar neighborhood, i.e. a place close to a light rail station or a place surrounded by Italian restaurants. I would like to use the Foursquare location data to analysis the neighborhoods of four different cities New York, Toronto, Beijing and Shanghai. "
   ]
  },
  {
   "cell_type": "code",
   "execution_count": null,
   "metadata": {},
   "outputs": [],
   "source": []
  }
 ],
 "metadata": {
  "kernelspec": {
   "display_name": "Python 3",
   "language": "python",
   "name": "python3"
  },
  "language_info": {
   "codemirror_mode": {
    "name": "ipython",
    "version": 3
   },
   "file_extension": ".py",
   "mimetype": "text/x-python",
   "name": "python",
   "nbconvert_exporter": "python",
   "pygments_lexer": "ipython3",
   "version": "3.6.5"
  }
 },
 "nbformat": 4,
 "nbformat_minor": 2
}
