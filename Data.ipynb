{
 "cells": [
  {
   "cell_type": "markdown",
   "metadata": {},
   "source": [
    "# Data"
   ]
  },
  {
   "cell_type": "markdown",
   "metadata": {},
   "source": [
    "The neighborhood data of New York and Toronto are provided in Coursera Applied Data Science Capstone course. The neighborhood data of Beijing and Shanghai will be extracted from Wikipedia: https://en.wikipedia.org/wiki/List_of_township-level_divisions_of_Shanghai and https://en.wikipedia.org/wiki/List_of_township-level_divisions_of_Beijing.\n",
    "\n",
    "I will use Foursquare location data to extracted the nearby venues of each neighborhood and apply hierarchical agglomerative clustering method to compare neighborhoods among cities."
   ]
  },
  {
   "cell_type": "code",
   "execution_count": null,
   "metadata": {},
   "outputs": [],
   "source": []
  }
 ],
 "metadata": {
  "kernelspec": {
   "display_name": "Python 3",
   "language": "python",
   "name": "python3"
  },
  "language_info": {
   "codemirror_mode": {
    "name": "ipython",
    "version": 3
   },
   "file_extension": ".py",
   "mimetype": "text/x-python",
   "name": "python",
   "nbconvert_exporter": "python",
   "pygments_lexer": "ipython3",
   "version": "3.6.5"
  }
 },
 "nbformat": 4,
 "nbformat_minor": 2
}
